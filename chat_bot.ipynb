{
  "nbformat": 4,
  "nbformat_minor": 0,
  "metadata": {
    "colab": {
      "provenance": []
    },
    "kernelspec": {
      "name": "python3",
      "display_name": "Python 3"
    },
    "language_info": {
      "name": "python"
    }
  },
  "cells": [
    {
      "cell_type": "code",
      "execution_count": 1,
      "metadata": {
        "id": "Xcvf8BHhrPAr"
      },
      "outputs": [],
      "source": [
        "import nltk\n",
        "from nltk.chat.util import Chat, reflections"
      ]
    },
    {
      "cell_type": "code",
      "source": [
        "def preprocess_reflections(reflections):\n",
        "    for key, value in reflections.items():\n",
        "        reflections[key] = [preprocess_pattern(p) for p in value]\n",
        "\n",
        "def preprocess_pattern(pattern):\n",
        "    pattern = pattern.lower()\n",
        "    pattern = pattern.replace('i', '(?:I|me)')\n",
        "    pattern = pattern.replace('my', '(?:my|your)')\n",
        "    pattern = pattern.replace('your', '(?:your|my)')\n",
        "    pattern = pattern.replace('you', '(?:you|me)')\n",
        "    return pattern\n"
      ],
      "metadata": {
        "id": "BXXF5O5IrTRi"
      },
      "execution_count": 3,
      "outputs": []
    },
    {
      "cell_type": "code",
      "source": [
        "chatbot_patterns = [\n",
        "    (r'hi|hello|hey', ['Hello!', 'Hi there!', 'Hey!']),\n",
        "    (r'how are you', ['I am doing well, thank you!', 'I am fine, thanks!', 'I am good, how about you?']),\n",
        "    (r'what is your name', ['I am a chatbot.', 'I go by the name Chatbot.', 'I am Chatbot!']),\n",
        "    (r'what can you do', ['I can answer simple questions and have basic conversations.', 'I can chat with you and provide information.']),\n",
        "    (r'bye|goodbye', ['Goodbye!', 'Farewell!', 'See you later!']),\n",
        "     (r'how old are you', ['I am just a program, so I don\\'t have an age.', 'I don\\'t age as humans do.']),\n",
        "    (r'where are you from', ['I exist in the digital world, so I don\\'t have a physical location.', 'I am from the cloud.']),\n",
        "    (r'who created you', ['I was created by a team of developers.', 'My creators are talented programmers.']),\n",
        "    (r'what is your purpose', ['My purpose is to assist and provide information to users like you.', 'I am here to help you.']),\n",
        "    (r'tell me a joke', ['Why don\\'t scientists trust atoms? Because they make up everything!', 'Why don\\'t some couples go to the gym? Because some relationships don\\'t work out!']),\n",
        "    (r'thank you', ['You\\'re welcome!', 'No problem!', 'Happy to help!']),\n",
        "    (r'help', ['Sure, how can I assist you?', 'I\\'m here to help. What do you need?']),\n",
        "    (r'who am I', ['I\\'m sorry, I cannot determine who you are as I am just a program.', 'I don\\'t have access to personal information.']),\n",
        "    (r'what time is it', ['I don\\'t have real-time capabilities, but you can check the time on your device.']),\n",
        "    (r'weather', ['I don\\'t have access to live weather data, but you can check a weather website or app for the latest forecast.']),\n",
        "    (r'how can I contact you', ['I don\\'t have personal contact information. You can interact with me here.']),\n",
        "]\n",
        "\n",
        "\n",
        "# Preprocess the patterns\n",
        "preprocessed_patterns = [(preprocess_pattern(pattern), response) for pattern, response in chatbot_patterns]\n"
      ],
      "metadata": {
        "id": "kQEaVe1rriin"
      },
      "execution_count": 8,
      "outputs": []
    },
    {
      "cell_type": "code",
      "source": [
        "def chatbot():\n",
        "    print(\"Chatbot: Hi, I'm a simple chatbot. How can I assist you today?\")\n",
        "    chat = Chat(preprocessed_patterns, reflections)\n",
        "    while True:\n",
        "        user_input = input(\"You: \").lower()\n",
        "        if user_input == 'exit':\n",
        "            print(\"Chatbot: Goodbye!\")\n",
        "            break\n",
        "        response = chat.respond(user_input)\n",
        "        print(\"Chatbot:\", response)\n"
      ],
      "metadata": {
        "id": "wpTPULUFr17U"
      },
      "execution_count": 5,
      "outputs": []
    },
    {
      "cell_type": "code",
      "source": [
        "if __name__ == \"__main__\":\n",
        "    nltk.download('punkt')\n",
        "    nltk.download('averaged_perceptron_tagger')\n",
        "    nltk.download('wordnet')\n",
        "\n",
        "    preprocess_reflections(reflections)\n",
        "    chatbot()"
      ],
      "metadata": {
        "colab": {
          "base_uri": "https://localhost:8080/"
        },
        "id": "bskdWbaFr4jH",
        "outputId": "0005e1cf-ef59-4a13-f624-63040f83eceb"
      },
      "execution_count": 6,
      "outputs": [
        {
          "output_type": "stream",
          "name": "stderr",
          "text": [
            "[nltk_data] Downloading package punkt to /root/nltk_data...\n",
            "[nltk_data]   Unzipping tokenizers/punkt.zip.\n",
            "[nltk_data] Downloading package averaged_perceptron_tagger to\n",
            "[nltk_data]     /root/nltk_data...\n",
            "[nltk_data]   Unzipping taggers/averaged_perceptron_tagger.zip.\n",
            "[nltk_data] Downloading package wordnet to /root/nltk_data...\n"
          ]
        },
        {
          "output_type": "stream",
          "name": "stdout",
          "text": [
            "Chatbot: Hi, I'm a simple chatbot. How can I assist you today?\n",
            "You: hello\n",
            "Chatbot: Hi there!\n",
            "You: can you say something about you\n",
            "Chatbot: None\n",
            "You: exit\n",
            "Chatbot: Goodbye!\n"
          ]
        }
      ]
    },
    {
      "cell_type": "code",
      "source": [],
      "metadata": {
        "id": "ZPbcn-wur6ku"
      },
      "execution_count": null,
      "outputs": []
    }
  ]
}